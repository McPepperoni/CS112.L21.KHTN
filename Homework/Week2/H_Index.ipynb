{
  "nbformat": 4,
  "nbformat_minor": 0,
  "metadata": {
    "colab": {
      "name": "H_Index.ipynb",
      "provenance": [],
      "collapsed_sections": []
    },
    "kernelspec": {
      "name": "python3",
      "display_name": "Python 3"
    },
    "language_info": {
      "name": "python"
    }
  },
  "cells": [
    {
      "cell_type": "markdown",
      "metadata": {
        "id": "o-BHxAoo-66O"
      },
      "source": [
        "#**H-Index**\n",
        "#### **Đề bài:**\n",
        "Làm thế nào để đánh giá sự thành công của một nhà khoa học?  Dựa vào số bài báo được công bố hay dựa vào số lần một bài báo được trích dẫn tới ở công trình của những người khác? Cả hai tham số đó đều quan trọng.\n",
        "\n",
        "Một bài báo có điểm số trích dẫn là **c** nếu nó được trích dẫn tới **c** lần trong các công trình của những nhà khoa học khác. Một trong số các cách đánh giá sự thành công của một nhà khoa học là tính chỉ số ảnh hưởng _**H_Index**_ dựa trên sự kết hợp giữa số lượng bài báo và chỉ số trích dẫn của các bài báo đó.\n",
        "\n",
        "Chỉ số _**H_Index**_ của một nhà khoa học bằng _**k**_ lớn nhất nếu người đó có _**k**_ bài báo, mỗi bài có điểm số trích dẫn không nhỏ hơn k. Ví dụ, một người có 10 bài báo, mỗi bài báo được trích dẫn không dưới 10 lần thì _**H_Index**_ của người đó ít nhất là bằng 10.\n",
        "\n",
        "Một người có _**n**_ bài báo, bài báo thứ _**i**_ có điểm trích dẫn là $c_{i}$, _**i**_ = 1 ÷ _**n**_. Hãy xác định _**H_Index**_ của người đó.\n",
        "\n",
        "_**Dữ liệu**_: Vào từ thiết bị nhập chuẩn:\n",
        "\n",
        "- Dòng đầu tiên chứa một số nguyên -**n**_ (1 ≤ _**n**_ ≤ $5×10^{5}$),\n",
        "- Dòng thứ 2 chứa _**n**_ số nguyên $c_{1}, c_{2}, . . ., c_{n}$ (0 ≤ $c_{i}$ ≤ $10^{6}$, _**i**_ = 1 ÷ _**n**_).\n",
        "Kết quả: Đưa ra thiết bị xuất chuẩn một số nguyên – _**H_Index**_ tìm được.\n",
        "\n",
        "_**Ví dụ**_:\n",
        "\n",
        "| input      | output |\n",
        "|------------|--------|\n",
        "| 5          | 4      |\n",
        "| 8 5 3 4 10 |        |\n"
      ]
    },
    {
      "cell_type": "markdown",
      "metadata": {
        "id": "ZTU42971ASVh"
      },
      "source": [
        "**Decomposition**\n",
        "\n",
        "Ta cần đánh giá xem số bài báo có số lần trích dẫn lớn hơn một số bài báo xác định sao cho số bài báo là lớn nhất thoả mãn điều kiện"
      ]
    },
    {
      "cell_type": "markdown",
      "metadata": {
        "id": "f2oLf9kjDXlV"
      },
      "source": [
        "# Abstraction\n",
        "\n",
        "Cho $n$ ($1 ≤ n ≤ 5×10^{5}$) số nguyên $c_{1}, c_{2}, ..., c_{n} $ ($0 ≤ c_{i} ≤ 10^{6}, i = 1 ÷ n$). Hãy tìm $k$ lớn nhất sao cho $k$ số trong $n$ số trên không nhỏ hơn $k$."
      ]
    },
    {
      "cell_type": "markdown",
      "metadata": {
        "id": "qpmXgWFeF6Tp"
      },
      "source": [
        "**Pattern Recognition**\n",
        "\n",
        "Sắp xếp dãy $n$ theo thứ tự tăng dần, với mỗi vị trí của $c$ ta có được chỉ số vị trí của nó và giá trị $k$. Từ đó có thể dùng quy hoạch động để tìm ra vị trí thoả mãn."
      ]
    },
    {
      "cell_type": "markdown",
      "metadata": {
        "id": "gBQkL_oZHrpO"
      },
      "source": [
        "**Algorithm Thinking**"
      ]
    },
    {
      "cell_type": "code",
      "metadata": {
        "colab": {
          "base_uri": "https://localhost:8080/"
        },
        "id": "X4a30oRt-UMi",
        "outputId": "be079a6c-f8a4-4f1e-f9db-8ee801160b48"
      },
      "source": [
        "n = int(input())\n",
        "a = list(map(int, input().split()))\n",
        "a.sort()\n",
        "\n",
        "l = 0\n",
        "r = n-1\n",
        "m = int((l+r)/2)\n",
        "while(l<=r):\n",
        "  if a[m] == n-m:\n",
        "    break\n",
        "  elif a[m] < n-m:\n",
        "    l = m + 1\n",
        "    m = (l+r)//2\n",
        "  elif a[m] > n-m:\n",
        "    r = m - 1\n",
        "    m = (l+r)//2\n",
        "  if l>r:\n",
        "    m = r\n",
        "if n == 1 and a[0] >= n: \n",
        "  print(1)\n",
        "elif (n == 1 and a[0] < 1):\n",
        "  print(0)\n",
        "elif a[m] < n-m:\n",
        "  print(n-m-1)\n",
        "# elif a[m]>n:\n",
        "#   print(n)\n",
        "else:  \n",
        "  print(a[m])"
      ],
      "execution_count": null,
      "outputs": [
        {
          "output_type": "stream",
          "text": [
            "3\n",
            "1 22 11\n",
            "2\n"
          ],
          "name": "stdout"
        }
      ]
    }
  ]
}