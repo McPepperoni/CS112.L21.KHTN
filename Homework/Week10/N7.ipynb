{
  "nbformat": 4,
  "nbformat_minor": 0,
  "metadata": {
    "colab": {
      "name": "N7.ipynb",
      "provenance": []
    },
    "kernelspec": {
      "name": "python3",
      "display_name": "Python 3"
    },
    "language_info": {
      "name": "python"
    }
  },
  "cells": [
    {
      "cell_type": "markdown",
      "metadata": {
        "id": "k41K2uzo-OMd"
      },
      "source": [
        "## Abstraction\n",
        "Cho một ma trận nhị phân, đếm số vùng 1 (vùng có các số 1 đứng lân cận nhau chỉ đc coi là 1 vùng)"
      ]
    },
    {
      "cell_type": "markdown",
      "metadata": {
        "id": "a5680DC7-TyZ"
      },
      "source": [
        "## Decomposion\n",
        "\n",
        "Tại mỗi vị trí có có giá trị một, tìm tất cả các vị trí lân cận và đánh dấu lại để không đếm lại nhiều lần. "
      ]
    },
    {
      "cell_type": "markdown",
      "metadata": {
        "id": "UJFqdlNt-_9G"
      },
      "source": [
        "## Pattern Recognition\n",
        "\n",
        "Dùng DFS"
      ]
    },
    {
      "cell_type": "markdown",
      "metadata": {
        "id": "jwGYEECB_IOe"
      },
      "source": [
        "##Algorithm Design\n",
        "\n",
        "- Duyệt từng phần tử trong ma trận, nếu phần tử có giá trị một thì cộng biến đếm thành phần liên thông lên 1\n",
        "- Đồng thời duyệt 8 vị trí lân cận và đánh dấu lại vị trí đã duyệt qua.\n"
      ]
    },
    {
      "cell_type": "code",
      "metadata": {
        "id": "SBqRP1Zm_rgb",
        "colab": {
          "base_uri": "https://localhost:8080/"
        },
        "outputId": "d282dacc-c216-4732-c5e7-55a26fa2c5fd"
      },
      "source": [
        "around_row = [-1, -1, -1, 0, 0, 1, 1, 1]\n",
        "around_col = [-1, 0, 1, -1, 1, -1, 0, 1]\n",
        "\n",
        "def DFS(matrix, row, col):\n",
        "    if row < 0 or row >= num_row or col < 0 or col >= num_col or matrix[row][col] != 1:\n",
        "        return\n",
        "    matrix[row][col] = 0\n",
        "    for i in range(len(around_row)):\n",
        "        DFS(matrix, row + around_row[i], col + around_col[i])\n",
        " \n",
        "def land(matrix):\n",
        "    count = 0\n",
        "    for row in range(num_row):\n",
        "        for col in range(num_col):\n",
        "            if matrix[row][col] == 1:\n",
        "                count += 1\n",
        "                DFS(matrix, row, col)\n",
        "    return count\n",
        "\n",
        "num_row, num_col = map(int, input().split())\n",
        "matrix = [[ 1, 1, 0, 0, 0 ],\n",
        "\t\t\t[ 0, 1, 0, 0, 1 ],\n",
        "\t\t\t[ 1, 0, 0, 1, 1 ],\n",
        "\t\t\t[ 0, 0, 0, 0, 0 ],\n",
        "\t\t\t[ 1, 0, 1, 0, 1 ]]\n",
        "\n",
        "print(land(matrix))"
      ],
      "execution_count": 2,
      "outputs": [
        {
          "output_type": "stream",
          "text": [
            "5 5\n",
            "5\n"
          ],
          "name": "stdout"
        }
      ]
    }
  ]
}