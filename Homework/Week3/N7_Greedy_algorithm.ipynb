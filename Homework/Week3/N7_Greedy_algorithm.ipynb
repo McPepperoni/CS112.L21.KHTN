{
  "nbformat": 4,
  "nbformat_minor": 0,
  "metadata": {
    "colab": {
      "name": "N7_Greedy_algorithm.ipynb",
      "provenance": []
    },
    "kernelspec": {
      "name": "python3",
      "display_name": "Python 3"
    },
    "language_info": {
      "name": "python"
    }
  },
  "cells": [
    {
      "cell_type": "markdown",
      "metadata": {
        "id": "Meunr-biNWPQ"
      },
      "source": [
        "1. Chứng minh bài toán tìm cây khung nhỏ nhất sử dụng thuật toán Prim có đặc điểm nhận dạng của thuật toán tham lam.\n",
        " > Khi tìm cây khung nhỏ nhất, tại mỗi đỉnh ta luôn có được giá trị của nó tới các đỉnh kể. Khi đó ta cập nhật giá trị nhỏ nhất tại mỗi đỉnh nếu giá trị mới nhỏ hơn giá trị tìm được trước đó. Khi đi theo các đỉnh có giá trị tối ưu, ta sẽ duyệt được tất cả các giá trị tốt nhất để tạo thành cây khung. \n",
        "  \n",
        "  Suy ra:\n",
        "  - Bài toán có tính tham lam: ta không cần xem lại các giá trị đã chọn vì chỉ khi gặp giá trị tốt hơn ta mới cập nhât các đỉnh.\n",
        "  - Vì có chu trình nên phương án tối ưu hiện tại sẽ dẫn đến phương án tối ưu tốt nhất, ta sẽ không bỏ lỡ bất kì phương án nào tốt hơn khi đi theo phương án tốt nhất => Có cấu trúc con tối ưu\n",
        "\n",
        "2. Chứng minh thuật toán tham lam áp dụng cho activity selection sẽ ra kết quả tối ưu (the correctness of greedy algorithms)\n",
        "\n",
        "> Khi sắp xếp các công việc theo thời gian kết thúc tăng dần, các công việc mà ta có thể lựa chọn được là các công việc có thời gian bắt đầu lớn hơn thời gian kết thúc của công việc trước đó => đó là công việc tốt nhất lựa chọn và có thời gian kết thúc ngắn hơn các công việc sau, từ đó ta có thể chọn thêm các công việc khác, nên đó là lựa chọn tối ưu của bài toán con. Việc sắp xếp công việc theo thời gian kết thúc tăng dần giúp ta chọn được nhiều công việc nhất có thể  => không cần xem lại công việc đã chọn.\n"
      ]
    }
  ]
}