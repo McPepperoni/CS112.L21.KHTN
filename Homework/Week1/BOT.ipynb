{
  "nbformat": 4,
  "nbformat_minor": 0,
  "metadata": {
    "colab": {
      "name": "BOT.ipynb",
      "provenance": [],
      "collapsed_sections": []
    },
    "kernelspec": {
      "name": "python3",
      "display_name": "Python 3"
    },
    "language_info": {
      "name": "python"
    }
  },
  "cells": [
    {
      "cell_type": "markdown",
      "metadata": {
        "id": "mdVgiDR8Dec1"
      },
      "source": [
        "#**TEAM 007**\n",
        "**19522096 - Nguyễn Phú Quang** <br>\n",
        "**19521739 - Mai Đại Lâm**\n"
      ]
    },
    {
      "cell_type": "markdown",
      "metadata": {
        "id": "1wg1QHu8TW2z"
      },
      "source": [
        "\n",
        "#**BÀI TOÁN BOT**\n",
        "****\n",
        "\n",
        "**Abstraction:** Tổng các phần tử liền nhau lớn nhất <br>\n",
        "**Pattern Recognition:** Để tối đa hoá tổng tìm được và hạn chế thời gian của giải thuật ta xét những tổng bắt đầu bắng số dương<br> \n",
        "**Algorithm design:** Tính tổng phần tử thứ **i** đến thứ **j** bằng **S(i,j) = S(1,j) - S(1,i)** "
      ]
    },
    {
      "cell_type": "markdown",
      "metadata": {
        "id": "rfCTwFLI7vKi"
      },
      "source": [
        "****\n",
        "##**CODE:**"
      ]
    },
    {
      "cell_type": "code",
      "metadata": {
        "id": "0OeBvXGX7trh"
      },
      "source": [
        "arr = []\n",
        "n = int(input())\n",
        "\n",
        "arr = list(map(int, input().split()))\n",
        "arr = [0] + arr \n",
        "\n",
        "for i in range(1, n + 1):\n",
        "    arr[i] = arr[i] + arr[i-1]\n",
        "\n",
        "maxResult = [0, 0, 0]\n",
        "\n",
        "p = 0\n",
        "\n",
        "for i in range(1, n + 1):\n",
        "    if arr[p] > arr[i]:\n",
        "        p = i\n",
        "    \n",
        "    if maxResult[2] < arr[i] - arr[p]:\n",
        "        maxResult[2] = arr[i] - arr[p]\n",
        "        maxResult[0] = p\n",
        "        maxResult[1] = i\n",
        "\n",
        "maxResult[0] = maxResult[0] + 1\n",
        "print(*maxResult)"
      ],
      "execution_count": null,
      "outputs": []
    }
  ]
}