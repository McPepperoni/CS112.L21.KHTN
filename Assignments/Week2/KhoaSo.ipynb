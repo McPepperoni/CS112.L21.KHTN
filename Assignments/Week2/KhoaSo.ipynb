{
  "nbformat": 4,
  "nbformat_minor": 0,
  "metadata": {
    "colab": {
      "name": "KhoaSo.ipynb",
      "provenance": [],
      "collapsed_sections": []
    },
    "kernelspec": {
      "name": "python3",
      "display_name": "Python 3"
    },
    "language_info": {
      "name": "python"
    }
  },
  "cells": [
    {
      "cell_type": "markdown",
      "metadata": {
        "id": "UA77uWOg8pAV"
      },
      "source": [
        "##**NHÓM 07**\n",
        "****\n",
        "####NGUYỄN PHÚ QUANG - 19522096<br>\n",
        "####MAI ĐẠI LÂM - 19521739\n",
        "****\n",
        "**Abstract:** Sắp xếp và loại bỏ những chữ số cần thiết trong dãy nhập vào để tạo ra số lớn nhất có tổng các chữ số chia hết cho 3<br>\n",
        "**Patern Recognition:**\n",
        "> Một số khi xét chia hết cho 3 có 3 trường hợp là dư 0, dư 1 và dư 2.<br>\n",
        "  Dể số đó lớn nhất thì sắp xếp các chữ số theo thứ tự giảm dần từ trái qua\n",
        "\n",
        "**Algorithm Design:**\n",
        ">Với  $sum \\equiv 0 \\pmod 3$, output là các số ban đầu theo thứ tự giảm dần từ trái qua phải. Với  $sum \\equiv 1 \\pmod 3$, output tạo ra bằng cách laoij số t nhỏ nhất thoả  $t \\equiv 1 \\pmod 3$, nếu không có số t thoả thì ta loại 2 số u và v nhỏ nhất mà  $u \\equiv 2 \\pmod 3$ và  $v \\equiv 2 \\pmod 3$. Tương tự với $sum \\equiv 0 \\pmod 3$ ta loại số t nhỏ nhất với $t \\equiv 2 \\pmod 3$ hoặc 2 số u và v nhỏ nhất với $u \\equiv 1 \\pmod 3$ và  $v \\equiv 1 \\pmod 3$\n",
        "\n",
        "Từ đó ta có $sum \\equiv 0 \\pmod 3$"
      ]
    },
    {
      "cell_type": "markdown",
      "metadata": {
        "id": "zvdzQYATCJlU"
      },
      "source": [
        "##**CODE:**"
      ]
    },
    {
      "cell_type": "code",
      "metadata": {
        "id": "AxdeyamF8bdB"
      },
      "source": [
        "from sys import stdin, stdout\n",
        "from collections import Counter\n",
        "\n",
        "n = stdin.readline().strip()\n",
        "count = Counter(n)\n",
        "summary = sum(map(int, n)) % 3\n",
        "\n",
        "remain = [[]] * 2\n",
        "\n",
        "remain[0] = ['1', '4', '7']\n",
        "remain[1] = ['2', '5', '8']\n",
        "\n",
        "remain = [[x for x in r if x in count] for r in remain]\n",
        "\n",
        "if summary:\n",
        "    r = sum(count[x] for x in remain[summary - 1])\n",
        "    c = 1\n",
        "    if not r:\n",
        "        c = 2\n",
        "        summary = 3 - summary\n",
        "    for x in remain[summary - 1]:\n",
        "        t = min(c, count[x])\n",
        "        c -= t\n",
        "        count[x] -= t\n",
        "\n",
        "for x in sorted(count.keys(), reverse=True):\n",
        "    stdout.write(x * count[x])"
      ],
      "execution_count": null,
      "outputs": []
    }
  ]
}