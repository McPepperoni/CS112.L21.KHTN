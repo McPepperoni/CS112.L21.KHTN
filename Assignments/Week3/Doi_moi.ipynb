{
  "nbformat": 4,
  "nbformat_minor": 0,
  "metadata": {
    "colab": {
      "name": "Doi_moi.ipynb",
      "provenance": [],
      "collapsed_sections": []
    },
    "kernelspec": {
      "name": "python3",
      "display_name": "Python 3"
    },
    "language_info": {
      "name": "python"
    }
  },
  "cells": [
    {
      "cell_type": "markdown",
      "metadata": {
        "id": "wXzKXUlj33jE"
      },
      "source": [
        "## Abstraction \n",
        "\n",
        "Mỗi đơn vị thời gian, đại lượng $x$ và $y$ tăng lần lượt $a$ và $b$ đơn vị, cứ mỗi $k$ và $m$ đơn vị thời gian, đại lượng $x$ và $y$ giảm lần lượt $a$ và $b$ đơn vị, sau ít nhất bao nhiêu đơn vị thời gian thì $x+y \\geq n$?"
      ]
    },
    {
      "cell_type": "markdown",
      "metadata": {
        "id": "ODkt8DHR35jZ"
      },
      "source": [
        "## Decomposision \n",
        "\n",
        "> Đối với bài toán này ta phải giải quyết 2 bài toán con:\n",
        "- Gọi $t$ là thời điểm cần tìm.\n",
        "- Chưa xét đến việc giảm đại lượng sau chu kỳ $k$ và $m$, tổng $S = t\\times(a+b)$.\n",
        "- Tại thời điểm $t$, tổng đại lượng bị giảm là $T = a\\lfloor \\frac{t}{k} \\rfloor + b\\lfloor \\frac{t}{m} \\rfloor$.\n",
        "- Vậy tại thời điểm $t$, ta có $x+y = S - T = t\\times(a+b) - a\\lfloor \\frac{t}{k} \\rfloor - b\\lfloor \\frac{t}{m} \\rfloor$.\n",
        "- Cần tìm nghiệm nguyên nhỏ nhất cho hệ phương trình $t\\times(a+b) - a\\lfloor \\frac{t}{k} \\rfloor - b\\lfloor \\frac{t}{m} \\rfloor \\geq n$."
      ]
    },
    {
      "cell_type": "markdown",
      "metadata": {
        "id": "4lzG-de34KHq"
      },
      "source": [
        "## attern recognition (Tìm quy luật)\n",
        "\n",
        "> Nhận thấy hàm số rời rạc $f(t) = t\\times(a+b) - a\\lfloor \\frac{t}{k} \\rfloor - b\\lfloor \\frac{t}{m} \\rfloor$ luôn đồng biến $\\forall \\; t \\in \\mathbb{Z}$. Với $\\lfloor x \\rfloor$ là phần nguyên của $x$.\n",
        "\n",
        "$\\Rightarrow$ Có thể áp dụng thuật toán tìm kiếm nhị phân để tìm nghiệm nguyên $t$ nhỏ nhất thỏa mãn $f(t) \\geq n$."
      ]
    },
    {
      "cell_type": "markdown",
      "metadata": {
        "id": "vLtgyomD4VS_"
      },
      "source": [
        "## Design Algorithm"
      ]
    },
    {
      "cell_type": "code",
      "metadata": {
        "id": "FgGn3UUs2EqZ"
      },
      "source": [
        "from math import ceil\n",
        "a, k, b, m, n = [int(x) for x in input().split()[:5]]\n",
        "a, k, b, m = (a, k, b, m) if k <= m else (b, m, a, k)\n",
        "l = ceil(n / (a+b))\n",
        "r = ceil(n / (a+b) * k / (k-1))\n",
        "r = 10**18\n",
        "while l <= r:\n",
        "    x = (l+r) // 2\n",
        "    if x * (a+b) - a * (x//k) - b * (x//m) >= n:\n",
        "        res = x\n",
        "        r = x - 1\n",
        "    else:\n",
        "        l = x + 1\n",
        "\n",
        "print(res)"
      ],
      "execution_count": null,
      "outputs": []
    }
  ]
}