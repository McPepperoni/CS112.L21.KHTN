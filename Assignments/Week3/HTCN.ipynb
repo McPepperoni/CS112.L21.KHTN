{
  "nbformat": 4,
  "nbformat_minor": 0,
  "metadata": {
    "colab": {
      "name": "HTCN.ipynb",
      "provenance": [],
      "collapsed_sections": []
    },
    "kernelspec": {
      "name": "python3",
      "display_name": "Python 3"
    },
    "language_info": {
      "name": "python"
    }
  },
  "cells": [
    {
      "cell_type": "markdown",
      "metadata": {
        "id": "PyTTUH4Gy8g3"
      },
      "source": [
        "## Abstraction\n",
        "> Cho một đồ thị 2 chiều $G = (V,E)$ với N đỉnh và M cạnh, đếm số cạnh K thêm vào ít nhất sao cho $G$ có đúng 1 thành phần liên thông và số cách để thêm K cạnh đó ."
      ]
    },
    {
      "cell_type": "markdown",
      "metadata": {
        "id": "eXrqqOZd1Ctp"
      },
      "source": [
        "## Decomposision\n",
        "> Đối với bài toán này ta phải giải quyết 2 bài toán con:\n",
        "- Đếm số thành phần liên thông và nén chúng lại thành 1 đỉnh đại diện\n",
        "- Từ đó suy ra được số cạnh ít nhất cần thêm và số cách thêm số cạnh đó"
      ]
    },
    {
      "cell_type": "markdown",
      "metadata": {
        "id": "dX_BhsCs1Qql"
      },
      "source": [
        "## Pattern recognition\n",
        "> DFS:\n",
        "- Với một đỉnh $i (1 \\leq i \\leq N)$ trên đồ thị, xét Visited$[i]$ = 0 nghĩa là $i$ chưa được duyệt và ta sẽ tiến hành duyệt điểm $i$ theo chiều rộng.\n",
        "- Khi một đỉnh $i$ được duyệt ta sẽ tìm được thành phần liên thông thứ num_tplt mà $i$ thuộc về và đếm số lượng đỉnh trong thành phần liên thông đó và lưu lại trong S[num_tplt].\n",
        "\n",
        ">Counting:\n",
        "- Dễ thấy nếu coi một thành phần liên thông là 1 đỉnh thì số cạnh cần thêm bằng num_tplt - 1\n",
        "-  Khi đó chúng ta đã đưa về bài toán quen thuộc, từ num_tplt đỉnh đã cho, đếm số cách thêm cạnh vào để đồ thị liên thông, từ đó ta có công thức Cayley's formula số cách để thêm K cạnh vào là $N^{K-2}$(K = num_tplt)\n",
        "- Xét 2 thành phần liên thông $i,j$ bất kì, số cách để nối 2 thành phân liên thông này là $S_i*S_j$ theo quy tắc nhân\n",
        "\n",
        "Đáp án của bài toán là $(\\prod_{i=1}^{n} S(i)) * N^{k-2}$"
      ]
    },
    {
      "cell_type": "markdown",
      "metadata": {
        "id": "YsorwZ841m_V"
      },
      "source": [
        "## Design Algorithm"
      ]
    },
    {
      "cell_type": "code",
      "metadata": {
        "id": "POCqmjoWyrg-"
      },
      "source": [
        "import sys\n",
        "\n",
        "def bfs(u, a, tplt, cha, num_tplt):\n",
        "    q = [u]\n",
        "    while len(q) > 0:\n",
        "        u = q.pop(0)\n",
        "        tplt[num_tplt] += 1\n",
        "        for v in a[u]:\n",
        "            if cha[v] == 0:\n",
        "                cha[v] = 1\n",
        "                q.append(v)\n",
        "\n",
        "t = sys.stdin.readline().split()\n",
        "n,m = [int(x) for x in t[:2]]\n",
        "a = [[] for _ in range(n)]\n",
        "cha = [0 for _ in range(n)]\n",
        "tplt = [0 for _ in range(n)]\n",
        "\n",
        "for i in range(m):\n",
        "    t = sys.stdin.readline().split()\n",
        "    u,v = [int(x) for x in t]\n",
        "    if u < 1 or v < 1: continue\n",
        "    if u > n or v > n: continue\n",
        "    a[u-1].append(v-1)\n",
        "    a[v-1].append(u-1) \n",
        "\n",
        "num_tplt = 0\n",
        "for u in range(n):\n",
        "    if cha[u] == 0:\n",
        "        cha[u] = 1\n",
        "        # dfs(u, a, tplt, cha, num_tplt)\n",
        "        bfs(u, a, tplt, cha, num_tplt)\n",
        "        num_tplt += 1\n",
        "print(num_tplt - 1)\n",
        "    \n",
        "def mul(x, y):\n",
        "    if y == 0: return 1\n",
        "    t = mul(x, y//2)\n",
        "    t = (t * t)\n",
        "    if y % 2 == 0: \n",
        "        return t\n",
        "    return (t * x)\n",
        "        \n",
        "\n",
        "if (num_tplt == 1):\n",
        "    print(0)\n",
        "else:\n",
        "    res = 1\n",
        "    for x in tplt[:num_tplt]:\n",
        "    #  print(tplt[i])\n",
        "        res = res * x\n",
        "    res = (res * mul(n, num_tplt-2)) % (1000000007)\n",
        "    print(res)"
      ],
      "execution_count": null,
      "outputs": []
    }
  ]
}