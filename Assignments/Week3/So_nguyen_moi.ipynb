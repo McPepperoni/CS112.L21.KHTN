{
  "nbformat": 4,
  "nbformat_minor": 0,
  "metadata": {
    "colab": {
      "name": "So_nguyen_moi.ipynb",
      "provenance": [],
      "collapsed_sections": []
    },
    "kernelspec": {
      "name": "python3",
      "display_name": "Python 3"
    },
    "language_info": {
      "name": "python"
    }
  },
  "cells": [
    {
      "cell_type": "markdown",
      "metadata": {
        "id": "2NS7tIRL3YAh"
      },
      "source": [
        "#SỐ NGUYÊN MỚI\n",
        "\n",
        "**Đề bài:** Cho số nguyên dương n có không quá 100 chữ số. Hãy xác định số nguyên lớn nhất m chia hết cho 3 và khác n ở đúng một chữ số.\n",
        "\n",
        "Ví dụ, n = 123 thì m sẽ là 723.\n",
        "\n",
        "**Dữ liệu:** Vào từ thiết bị nhập chuẩn gồm một dòng chứa số nguyên n có không quá 100 chữ số và không chứa các số 0 không có nghĩa.\n",
        "\n",
        "**Kết quả:** Đưa ra thiết bị xuất chuẩn số nguyên m tìm được."
      ]
    },
    {
      "cell_type": "markdown",
      "metadata": {
        "id": "Qtgv61T23mDd"
      },
      "source": [
        "###Decomposition & Abstraction\n",
        "\n",
        "Để n lớn nhất ta nghĩ ngay đến việc thay đổi từ chữ số  lớn nhất cho đến nhỏ nhất, với mỗi chữ số, ta thử  từ số lớn nhất đến số hiện tại, nếu gặp số thỏa yêu cầu đề bài là chia hết cho 3 thì đó là số ta cần tìm. Nếu không có số nào thỏa, ta chuyển sang chữ số tiếp theo và tiếp tục như vậy. Nếu gặp số hạng cuối và ta vẫn không thể tìm được thì chúng ta bắt buộc phải xét đến cả những số hạng nhỏ hơn cả số hiện tại thỏa yêu cầu. "
      ]
    },
    {
      "cell_type": "markdown",
      "metadata": {
        "id": "w7OGZ8ig4sO-"
      },
      "source": [
        "### Pattern Recognition\n",
        "\n",
        "Ta tính số chữ số và duyệt từ đầu đến cuối số hạng, tại mỗi số hạng, dùng vòng lặp để thử tìm số thỏa yêu cầu đề bài. Tại chữ số cuối cùng, ta duyệt từ 9 - 1, không như các chữ số trước(duyệt từ 9-x (x là chữ số ban đầu tại vị trí đang xét))"
      ]
    },
    {
      "cell_type": "code",
      "metadata": {
        "id": "2NzsgdGr3qTK"
      },
      "source": [
        "n = int(input())\n",
        "def sochuso(n):\n",
        "    count = 0\n",
        "    while n != 0:\n",
        "        n = n//10\n",
        "        count = count + 1\n",
        "    return count\n",
        "def tongchuso(n):\n",
        "    sum = 0\n",
        "    while n != 0:\n",
        "        sum = sum + n%10\n",
        "        n = n // 10\n",
        "    return sum\n",
        "\n",
        "def timso(n):\n",
        "    m = sochuso(n)\n",
        "    for i in range(m,0,-1):\n",
        "        # print(i)\n",
        "        a = (n%(10**i))//(10**(i-1))\n",
        "        # print(a)\n",
        "        if a != 9 and i != 1: \n",
        "            for x in range(9,a,-1):\n",
        "                # print('haha')\n",
        "                b = (n//(10**i))*(10**i)+x*(10**(i-1))+n%(10**(i-1))\n",
        "                if tongchuso(b) % 3 == 0 and x != a:\n",
        "                    return b \n",
        "        elif i == 1:\n",
        "            for x in range(9,0,-1):\n",
        "                # print('hoho')\n",
        "                b = (n//(10**i))*(10**i)+x*(10**(i-1))+n%(10**(i-1))\n",
        "                if tongchuso(b) % 3 == 0 and x != a:\n",
        "                    return b\n",
        "        \n",
        "print(timso(n))"
      ],
      "execution_count": null,
      "outputs": []
    }
  ]
}