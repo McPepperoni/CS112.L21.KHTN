{
  "nbformat": 4,
  "nbformat_minor": 0,
  "metadata": {
    "colab": {
      "name": "Conduonggomsu.ipynb",
      "provenance": [],
      "collapsed_sections": []
    },
    "kernelspec": {
      "name": "python3",
      "display_name": "Python 3"
    },
    "language_info": {
      "name": "python"
    },
    "accelerator": "GPU"
  },
  "cells": [
    {
      "cell_type": "markdown",
      "metadata": {
        "id": "oB0AFiR-GOxD"
      },
      "source": [
        "##Con đường gốm sứ\n",
        "**Đề bài:**\n",
        "Sau khi bê tông hóa đê chống lụt, thành phố quyết định cho khảm lên tường bê tông của đê tranh ghép tạo bởi các mảnh gốm sứ lấy từ các lò gốm nổi tiếng trong nước. Toàn bộ con đê được chia thành *$n$* phần có độ rộng giống nhau, mỗi phần gọi là một lô. Mỗi bức tranh khảm trên đó đều phải có độ rộng giống nhau, tức là bao gồm một số như nhau các lô liên tiếp và toàn bộ tường phải được phủ kín tranh từ đầu đến cuối, mỗi lô phải được tạo màu chủ đạo (gọi là màu của lô) từ một loại gốm đặc trưng lấy từ một lò gốm nào đó trong nước, ví dụ gốm màu xanh Cô ban từ lò gốm Ánh Hồng Quảng Ninh, gốm da lươn – từ Bát Tràng Hà Nội, gốm mộc hồng nhạt – từ Biên Hòa Đồng Nai, . . . Các loại gốm này được đánh số từ 1 đến 50 000.\n",
        "\n",
        "Hướng dẫn viên du lịch giới thiệu với khách tham quan là có 2 nhóm nghệ nhân được giao việc tạo hình và khảm tranh. Với mỗi nhóm các bức tranh của đều được đặc trưng bởi dãy số **($c_{1}, c_{2}, . . ., c_{k}$)**, trong đó **$k$** là độ rộng của tranh, **$c_{i}$** – màu của lô, $i = 1 ÷ k$, các bức tranh khác nhau có thể khác nhau ở trình tự xuất hiện màu của các lô, ví dụ với dãy số đặc trưng (2, 6, 2, 9), trình tự màu trong tranh có thể là (9, 2, 2, 6) hoặc (6, 9, 2, 2) nhưng không thể là (6, 9, 2, 3). Dãy đặc trưng của 2 nhóm là khác nhau, tức là không thể bằng phép hoán vị trình tự màu của lô để đưa một dãy về dãy kia. Các bức tranh được ghép với nhau rất hài hòa và khách tham quan không nhận biết được sự chuyển tiếp từ tranh này sang tranh khác. Tuy vậy nhiều khách tham quan vẫn muốn biết có bao nhiêu bức tranh đã tạo ra và trong đó số bức tranh của mỗi nhóm là bao nhiêu.\n",
        "\n",
        "Hãy xác định số lượng tranh có thể có và số lượng tranh mỗi nhóm đã làm. biết rằng nhóm nào cũng có tranh của mình.\n",
        "\n",
        "**Dữ liệu:**\n",
        "\n",
        "- Dòng đầu tiên chứa một số nguyên **$n$** – số lượng lô của con đê ($2 ≤ n ≤ 10^{5}$),\n",
        "- Dòng thứ 2 chứa n số nguyên $a_{1}, a_{2}, . . ., a_{n}$ – màu của các lô ($1 ≤ a_{i} ≤ 50 000, i = 1 ÷ n$).\n",
        "\n",
        "**Kết quả:** dòng đầu tiên chứa số nguyên $m$ – số lượng phương án khác nhau chia con đường thành các bức tranh, nếu không có cách phân chia để đảm bảo phân biệt tranh của đúng 2 nhóm thì đưa ra số -1. Nếu có cách phân biệt thì ở mỗi dòng tiếp theo đưa ra 3 số nguyên $k, p$ và $q$ – độ rộng bức tranh, số tranh do nhóm 1 thực hiện và số tranh do nhóm 2 thực hiện, thông tin đưa ra theo thứ tự tăng dần của $k$ và ở mỗi dòng có $p ≥ q > 0$."
      ]
    },
    {
      "cell_type": "markdown",
      "metadata": {
        "id": "K95BMjpFQbfN"
      },
      "source": [
        "**Decomposition**\n",
        "\n",
        "Ta chia các đoạn để thành các đoạn nhỏ hơn là ước của đoạn ban đầu, với mỗi đoạn ta xác định xem đoạn đó thuộc về nhóm nào bằng phép so sánh với đoạn đã có từ trước. Chia đến cuối đoạn thì đó chính là 1 cách. Nếu có đoạn nào không giống cả hai đoạn đã tìm thấy trước thì cách đó không chia được."
      ]
    },
    {
      "cell_type": "markdown",
      "metadata": {
        "id": "dFqLDA9eSupj"
      },
      "source": [
        "**Abstraction**\n",
        "\n",
        "Cho $n$ ($2 ≤ n ≤ 10^{5}$) số nguyên $a_{1}, a_{2}, . . ., a_{n}$ ($1 ≤ a_{i} ≤ 50 000, i = 1 ÷ n$). Chia đoạn này thành các đoạn bằng nhau sao cho khi xếp vào hai nhóm, các đoạn trong một nhóm phải cùng tính chất (các đoạn là hoán vị của nhau)."
      ]
    },
    {
      "cell_type": "markdown",
      "metadata": {
        "id": "_JByOw8NTnVM"
      },
      "source": [
        "**Pattern Recognition**\n",
        "\n",
        "Với mỗi ước của $n$ t aduyệt qua $n$ với step bằng ước rồi sắp xếp chúng để so sánh với các đoạn của 1 trong 2 nhóm đã có sẵn, từ đó biết được nhóm cần đặt. Nếu có 3 đoạn khác tính chất nhau thì cách đó không sử dụng được"
      ]
    },
    {
      "cell_type": "code",
      "metadata": {
        "id": "b_oMxGyrf7tn",
        "colab": {
          "base_uri": "https://localhost:8080/"
        },
        "outputId": "597be12d-5079-4692-9a03-791cc6f9e2e7"
      },
      "source": [
        "n = int(input())\n",
        "a = list(map(int, input().split()))\n",
        "uocs = []\n",
        "for i in range(n,0,-1):\n",
        "    if (n % i == 0): uocs.append(i)\n",
        "\n",
        "\n",
        "ans = []\n",
        "def check(arr1,arr2):\n",
        "    if (len(arr1)!= 1):\n",
        "      arr1.sort()\n",
        "    if (len(arr2)!= 1):  \n",
        "      arr2.sort()\n",
        "    if (arr1==arr2):\n",
        "        return True\n",
        "    else:\n",
        "        return False\n",
        "for uoc in uocs:\n",
        "  k = int(n//uoc)\n",
        "  m, w = [], [k]\n",
        "  for i in range(0,n,k):\n",
        "      a1 = a[0:k]\n",
        "      j = i + k\n",
        "      browse_arr = a[i:j]\n",
        "      browse_arr.sort() \n",
        "\n",
        "      if (browse_arr in m):\n",
        "          if (check(a1,browse_arr)==True):\n",
        "              w[1] +=1\n",
        "          else:\n",
        "              w[2] +=1\n",
        "      else:\n",
        "           m.append(browse_arr)\n",
        "           if (len(m) > 2): break\n",
        "           w.append(1)\n",
        "\n",
        "\n",
        "  if (len(m) != 2) : continue  \n",
        "  ans.append(w)\n",
        "  print()\n",
        "\n",
        "if (len(ans) == 0):\n",
        "    print(-1)\n",
        "    exit()\n",
        "print(len(ans))\n",
        "for an in ans:\n",
        "    print(an[0],an[1],an[2])"
      ],
      "execution_count": null,
      "outputs": [
        {
          "output_type": "stream",
          "text": [
            "12\n",
            "1 2 3 7 8 4 2 1 3 3 2 1\n",
            "\n",
            "\n",
            "2\n",
            "3 3 1\n",
            "6 1 1\n"
          ],
          "name": "stdout"
        }
      ]
    }
  ]
}